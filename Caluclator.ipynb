{
  "nbformat": 4,
  "nbformat_minor": 0,
  "metadata": {
    "colab": {
      "name": "Untitled1.ipynb",
      "provenance": [],
      "authorship_tag": "ABX9TyOpcrONkTCMPBWEg3jbitpx",
      "include_colab_link": true
    },
    "kernelspec": {
      "name": "python3",
      "display_name": "Python 3"
    },
    "language_info": {
      "name": "python"
    }
  },
  "cells": [
    {
      "cell_type": "markdown",
      "metadata": {
        "id": "view-in-github",
        "colab_type": "text"
      },
      "source": [
        "<a href=\"https://colab.research.google.com/github/kirane61/letsUpgrade/blob/main/Caluclator.ipynb\" target=\"_parent\"><img src=\"https://colab.research.google.com/assets/colab-badge.svg\" alt=\"Open In Colab\"/></a>"
      ]
    },
    {
      "cell_type": "code",
      "metadata": {
        "colab": {
          "base_uri": "https://localhost:8080/"
        },
        "id": "hjeJGOBT_yNS",
        "outputId": "29a4d32e-3f7d-43c8-caae-99996310df50"
      },
      "source": [
        "a=int(input(\"Enter the number a: \"))\n",
        "b=int(input(\"Enter the number b: \"))\n",
        "\n",
        "add=a+b\n",
        "sub=a-b\n",
        "mul=a*b\n",
        "div=a/b\n",
        "\n",
        "print(\"addition\",add)\n",
        "print(\"Subtraction\",sub)\n",
        "print(\"Multiplication\",mul)\n",
        "print(\"Divison\",div)"
      ],
      "execution_count": 3,
      "outputs": [
        {
          "output_type": "stream",
          "text": [
            "Enter the number a: 23\n",
            "Enter the number b: 3\n",
            "addition 26\n",
            "Subtraction 20\n",
            "Multiplication 69\n",
            "Divison 7.666666666666667\n"
          ],
          "name": "stdout"
        }
      ]
    },
    {
      "cell_type": "code",
      "metadata": {
        "id": "C_pS5DfJMGDC"
      },
      "source": [
        "3\n"
      ],
      "execution_count": null,
      "outputs": []
    }
  ]
}